{
 "cells": [
  {
   "cell_type": "code",
   "execution_count": null,
   "id": "34c199d5",
   "metadata": {},
   "outputs": [],
   "source": [
    "aws_access_key = 'Access_key'\n",
    "aws_secret_key = 'Secret_key'\n",
    "region = 'us-east-1'\n",
    "\n",
    "import boto3\n",
    "\n",
    "def get_client(service):\n",
    "    return boto3.client(service,\n",
    "                        aws_access_key_id=aws_access_key,\n",
    "                        aws_secret_access_key=aws_secret_key,\n",
    "                        region_name=region)"
   ]
  },
  {
   "cell_type": "code",
   "execution_count": null,
   "id": "b413d06a",
   "metadata": {},
   "outputs": [],
   "source": [
    "def create_bucket_with_acls(bucket_name):\n",
    "    s3 = get_client('s3')\n",
    "\n",
    "    try:\n",
    "       \n",
    "        if region == 'us-east-1':\n",
    "            s3.create_bucket(Bucket=bucket_name)\n",
    "        else:\n",
    "            s3.create_bucket(\n",
    "                Bucket=bucket_name,\n",
    "                CreateBucketConfiguration={'LocationConstraint': region}\n",
    "            )\n",
    "        print(f\"✅ Bucket created: {bucket_name}\")\n",
    "\n",
    "    \n",
    "        s3.put_bucket_ownership_controls(\n",
    "            Bucket=bucket_name,\n",
    "            OwnershipControls={\n",
    "                'Rules': [{'ObjectOwnership': 'BucketOwnerPreferred'}]\n",
    "            }\n",
    "        )\n",
    "        print(f\"✅ Enabled ACLs for: {bucket_name}\")\n",
    "\n",
    "        return True\n",
    "\n",
    "    except Exception as e:\n",
    "        print(f\"❌ Error creating bucket with ACLs: {e}\")\n",
    "        return False\n"
   ]
  },
  {
   "cell_type": "code",
   "execution_count": null,
   "id": "11ad224b",
   "metadata": {},
   "outputs": [],
   "source": [
    "def disable_block_public_access(bucket_name):\n",
    "    s3 = get_client('s3')\n",
    "    try:\n",
    "        s3.put_public_access_block(\n",
    "            Bucket=bucket_name,\n",
    "            PublicAccessBlockConfiguration={\n",
    "                'BlockPublicAcls': False,\n",
    "                'IgnorePublicAcls': False,\n",
    "                'BlockPublicPolicy': False,\n",
    "                'RestrictPublicBuckets': False\n",
    "            }\n",
    "        )\n",
    "        print(f\"✅ Disabled Block Public Access for: {bucket_name}\")\n",
    "    except Exception as e:\n",
    "        print(f\"❌ Error disabling block settings: {e}\")\n"
   ]
  },
  {
   "cell_type": "code",
   "execution_count": null,
   "id": "c6e9874f",
   "metadata": {},
   "outputs": [],
   "source": [
    "def make_bucket_public(bucket_name):\n",
    "    s3 = get_client('s3')\n",
    "    try:\n",
    "        s3.put_bucket_acl(Bucket=bucket_name, ACL='public-read')\n",
    "        print(f\"⚠️ Made bucket public: {bucket_name}\")\n",
    "    except Exception as e:\n",
    "        print(f\"❌ Error setting public ACL on {bucket_name}: {e}\")"
   ]
  },
  {
   "cell_type": "code",
   "execution_count": null,
   "id": "98123447",
   "metadata": {},
   "outputs": [],
   "source": [
    "test_buckets = ['audit-test-bucket-01', 'audit-test-bucket-02', 'audit-test-bucket-03']\n",
    "\n",
    "for b in test_buckets:\n",
    "    create_bucket_with_acls(b)\n",
    "\n",
    "bucket_name = 'audit-test-bucket-04'\n",
    "\n",
    "if create_bucket_with_acls(bucket_name):\n",
    "    disable_block_public_access(bucket_name)   \n",
    "    make_bucket_public(bucket_name)            "
   ]
  },
  {
   "cell_type": "code",
   "execution_count": null,
   "id": "b53ae068",
   "metadata": {},
   "outputs": [],
   "source": [
    "def get_default_vpc_id():\n",
    "    ec2 = get_client('ec2')\n",
    "    vpcs = ec2.describe_vpcs(Filters=[{'Name': 'isDefault', 'Values': ['true']}])\n",
    "    return vpcs['Vpcs'][0]['VpcId']\n",
    "\n",
    "default_vpc_id = get_default_vpc_id()"
   ]
  },
  {
   "cell_type": "code",
   "execution_count": null,
   "id": "4b33d0b7",
   "metadata": {},
   "outputs": [],
   "source": [
    "def create_security_group(group_name, description, vpc_id):\n",
    "    ec2 = get_client('ec2')\n",
    "    try:\n",
    "        response = ec2.create_security_group(\n",
    "            GroupName=group_name,\n",
    "            Description=description,\n",
    "            VpcId=vpc_id\n",
    "        )\n",
    "        sg_id = response['GroupId']\n",
    "        print(f\"✅ Created Security Group: {group_name} | ID: {sg_id}\")\n",
    "        return sg_id\n",
    "    except Exception as e:\n",
    "        print(f\"❌ Error creating security group {group_name}: {e}\")"
   ]
  },
  {
   "cell_type": "code",
   "execution_count": null,
   "id": "cdd891c4",
   "metadata": {},
   "outputs": [],
   "source": [
    "def add_open_inbound_rule(sg_id, port=80, protocol='tcp'):\n",
    "    ec2 = get_client('ec2')\n",
    "    try:\n",
    "        ec2.authorize_security_group_ingress(\n",
    "            GroupId=sg_id,\n",
    "            IpPermissions=[\n",
    "                {\n",
    "                    'IpProtocol': protocol,\n",
    "                    'FromPort': port,\n",
    "                    'ToPort': port,\n",
    "                    'IpRanges': [{'CidrIp': '0.0.0.0/0'}]\n",
    "                }\n",
    "            ]\n",
    "        )\n",
    "        print(f\"⚠️ Added open rule to SG {sg_id} for {protocol.upper()} {port}\")\n",
    "    except Exception as e:\n",
    "        print(f\"❌ Error adding rule to {sg_id}: {e}\")"
   ]
  },
  {
   "cell_type": "code",
   "execution_count": null,
   "id": "37df7a71",
   "metadata": {},
   "outputs": [],
   "source": [
    "sg_ids = []\n",
    "sg_ids.append(create_security_group(\"audit-sg-01\", \"Test open SG\", default_vpc_id))\n",
    "sg_ids.append(create_security_group(\"audit-sg-02\", \"Another test SG\", default_vpc_id))\n",
    "\n",
    "\n",
    "add_open_inbound_rule(sg_ids[0], port=22)  "
   ]
  },
  {
   "cell_type": "code",
   "execution_count": null,
   "id": "cafb5463",
   "metadata": {},
   "outputs": [],
   "source": []
  }
 ],
 "metadata": {
  "kernelspec": {
   "display_name": "Python 3 (ipykernel)",
   "language": "python",
   "name": "python3"
  },
  "language_info": {
   "codemirror_mode": {
    "name": "ipython",
    "version": 3
   },
   "file_extension": ".py",
   "mimetype": "text/x-python",
   "name": "python",
   "nbconvert_exporter": "python",
   "pygments_lexer": "ipython3",
   "version": "3.11.5"
  }
 },
 "nbformat": 4,
 "nbformat_minor": 5
}
